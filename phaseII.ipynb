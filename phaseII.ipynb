{
 "cells": [
  {
   "cell_type": "markdown",
   "metadata": {},
   "source": [
    "# INFO 2950 - Project Phase II\n",
    "---"
   ]
  },
  {
   "cell_type": "markdown",
   "metadata": {},
   "source": [
    "By: David Fleurantin (djf252) and Meredith Hu (mmh264)\n",
    "</br>\n",
    "GitHub: https://github.com/DavidFleurantin/INFO-2950-Final-Project"
   ]
  },
  {
   "cell_type": "code",
   "execution_count": 207,
   "metadata": {},
   "outputs": [
    {
     "name": "stdout",
     "output_type": "stream",
     "text": [
      "Requirement already satisfied: alpha_vantage in c:\\users\\djfle\\anaconda3\\lib\\site-packages (2.3.1)\n",
      "Requirement already satisfied: pandas in c:\\users\\djfle\\anaconda3\\lib\\site-packages (1.1.3)\n",
      "Requirement already satisfied: aiohttp in c:\\users\\djfle\\anaconda3\\lib\\site-packages (from alpha_vantage) (3.7.4.post0)\n",
      "Requirement already satisfied: requests in c:\\users\\djfle\\anaconda3\\lib\\site-packages (from alpha_vantage) (2.24.0)\n",
      "Requirement already satisfied: numpy>=1.15.4 in c:\\users\\djfle\\anaconda3\\lib\\site-packages (from pandas) (1.19.2)\n",
      "Requirement already satisfied: pytz>=2017.2 in c:\\users\\djfle\\anaconda3\\lib\\site-packages (from pandas) (2020.1)\n",
      "Requirement already satisfied: python-dateutil>=2.7.3 in c:\\users\\djfle\\anaconda3\\lib\\site-packages (from pandas) (2.8.1)\n",
      "Requirement already satisfied: async-timeout<4.0,>=3.0 in c:\\users\\djfle\\anaconda3\\lib\\site-packages (from aiohttp->alpha_vantage) (3.0.1)\n",
      "Requirement already satisfied: multidict<7.0,>=4.5 in c:\\users\\djfle\\anaconda3\\lib\\site-packages (from aiohttp->alpha_vantage) (5.1.0)\n",
      "Requirement already satisfied: attrs>=17.3.0 in c:\\users\\djfle\\anaconda3\\lib\\site-packages (from aiohttp->alpha_vantage) (20.3.0)\n",
      "Requirement already satisfied: chardet<5.0,>=2.0 in c:\\users\\djfle\\anaconda3\\lib\\site-packages (from aiohttp->alpha_vantage) (3.0.4)\n",
      "Requirement already satisfied: yarl<2.0,>=1.0 in c:\\users\\djfle\\anaconda3\\lib\\site-packages (from aiohttp->alpha_vantage) (1.6.3)\n",
      "Requirement already satisfied: typing-extensions>=3.6.5 in c:\\users\\djfle\\anaconda3\\lib\\site-packages (from aiohttp->alpha_vantage) (3.7.4.3)\n",
      "Requirement already satisfied: urllib3!=1.25.0,!=1.25.1,<1.26,>=1.21.1 in c:\\users\\djfle\\anaconda3\\lib\\site-packages (from requests->alpha_vantage) (1.25.11)\n",
      "Requirement already satisfied: idna<3,>=2.5 in c:\\users\\djfle\\anaconda3\\lib\\site-packages (from requests->alpha_vantage) (2.10)\n",
      "Requirement already satisfied: certifi>=2017.4.17 in c:\\users\\djfle\\anaconda3\\lib\\site-packages (from requests->alpha_vantage) (2020.6.20)\n",
      "Requirement already satisfied: six>=1.5 in c:\\users\\djfle\\anaconda3\\lib\\site-packages (from python-dateutil>=2.7.3->pandas) (1.15.0)\n"
     ]
    }
   ],
   "source": [
    "# load libraries\n",
    "import pandas as pd\n",
    "import numpy as np\n",
    "import matplotlib.pyplot as plt\n",
    "from scipy import stats\n",
    "from PIL import Image"
   ]
  },
  {
   "cell_type": "markdown",
   "metadata": {},
   "source": [
    "## Overview \n",
    "---\n",
    "\n",
    "In January 2021, a short squeeze of the stock of the American video game retailer GameStop (NYSE: GME) and other securities took place, causing major financial consequences for certain hedge funds and large losses for short sellers. Approximately 140 percent of GameStop's public float had been sold short, and the rush to buy shares to cover those positions as the price rose caused it to rise even farther. The short squeeze was initially and primarily triggered by users of the subreddit r/wallstreetbets, an Internet forum on the social news website Reddit, although a number of hedge funds also participated. At its height, on January 28, the short squeeze caused the retailer's stock price to reach a pre-market value of over US \\\\$500 per share, nearly 30 times the \\\\$17.25 valuation at the beginning of the month. The price of many other heavily shorted securities also increased.\n",
    "\n",
    "-[Wikipedia](https://en.wikipedia.org/wiki/GameStop_short_squeeze)"
   ]
  },
  {
   "cell_type": "markdown",
   "metadata": {},
   "source": [
    "---\n",
    "## Research Question(s)"
   ]
  },
  {
   "cell_type": "markdown",
   "metadata": {},
   "source": [
    "## Data Collection and Cleaning"
   ]
  },
  {
   "cell_type": "markdown",
   "metadata": {},
   "source": [
    "This project will employ two primary data sets\n",
    "- #### Reddit posts and necessary metadata sourced from r/wallstreetbets over a 2 month span (Jan 28 - Present)\n",
    "- #### Intraday GameStop (GME) stock data over a 2 month in 30 minute intervals (Jan 18 - Present)\n",
    "\n",
    "Below is a documentation of every step that will take raw data file(s) and turn them into analysis-ready data that will be utilized throughout the remainder of our project."
   ]
  },
  {
   "cell_type": "markdown",
   "metadata": {},
   "source": [
    "#### r/wallstreetbets Posts and Metadata\n",
    "\n",
    "The resulting dataset will be sourced directly from [Kaggle](https://www.kaggle.com/gpreda/reddit-wallstreetsbets-posts). An attempt was first made to source the data from Reddit's own api. However, this approach proved to be complicated as reddit does not allow access to posts too far back or allow direct query search. Likewise, the process to collect 1000s of posts would have resulted in too many api calls. The [Kaggle](https://www.kaggle.com/gpreda/reddit-wallstreetsbets-posts) dataset direct solves this issue and allowed to directly focus on the relevant time frame that we wanted that captured the phenomenon of GameStop's volatile and fluctuating stock price."
   ]
  },
  {
   "cell_type": "markdown",
   "metadata": {},
   "source": [
    "After downloading the csv from [Kaggle](https://www.kaggle.com/gpreda/reddit-wallstreetsbets-posts), let's convert it to a pandas dataframe ('reddit_data' and print out the first few rows to better gauge what we are dealing with."
   ]
  },
  {
   "cell_type": "code",
   "execution_count": 224,
   "metadata": {},
   "outputs": [
    {
     "name": "stdout",
     "output_type": "stream",
     "text": [
      "['title', 'score', 'id', 'url', 'comms_num', 'created', 'body', 'timestamp']\n"
     ]
    },
    {
     "data": {
      "text/html": [
       "<div>\n",
       "<style scoped>\n",
       "    .dataframe tbody tr th:only-of-type {\n",
       "        vertical-align: middle;\n",
       "    }\n",
       "\n",
       "    .dataframe tbody tr th {\n",
       "        vertical-align: top;\n",
       "    }\n",
       "\n",
       "    .dataframe thead th {\n",
       "        text-align: right;\n",
       "    }\n",
       "</style>\n",
       "<table border=\"1\" class=\"dataframe\">\n",
       "  <thead>\n",
       "    <tr style=\"text-align: right;\">\n",
       "      <th></th>\n",
       "      <th>title</th>\n",
       "      <th>score</th>\n",
       "      <th>id</th>\n",
       "      <th>url</th>\n",
       "      <th>comms_num</th>\n",
       "      <th>created</th>\n",
       "      <th>body</th>\n",
       "      <th>timestamp</th>\n",
       "    </tr>\n",
       "  </thead>\n",
       "  <tbody>\n",
       "    <tr>\n",
       "      <th>0</th>\n",
       "      <td>It's not about the money, it's about sending a...</td>\n",
       "      <td>55</td>\n",
       "      <td>l6ulcx</td>\n",
       "      <td>https://v.redd.it/6j75regs72e61</td>\n",
       "      <td>6</td>\n",
       "      <td>1.611863e+09</td>\n",
       "      <td>NaN</td>\n",
       "      <td>2021-01-28 21:37:41</td>\n",
       "    </tr>\n",
       "    <tr>\n",
       "      <th>1</th>\n",
       "      <td>Math Professor Scott Steiner says the numbers ...</td>\n",
       "      <td>110</td>\n",
       "      <td>l6uibd</td>\n",
       "      <td>https://v.redd.it/ah50lyny62e61</td>\n",
       "      <td>23</td>\n",
       "      <td>1.611862e+09</td>\n",
       "      <td>NaN</td>\n",
       "      <td>2021-01-28 21:32:10</td>\n",
       "    </tr>\n",
       "    <tr>\n",
       "      <th>2</th>\n",
       "      <td>Exit the system</td>\n",
       "      <td>0</td>\n",
       "      <td>l6uhhn</td>\n",
       "      <td>https://www.reddit.com/r/wallstreetbets/commen...</td>\n",
       "      <td>47</td>\n",
       "      <td>1.611862e+09</td>\n",
       "      <td>The CEO of NASDAQ pushed to halt trading “to g...</td>\n",
       "      <td>2021-01-28 21:30:35</td>\n",
       "    </tr>\n",
       "    <tr>\n",
       "      <th>3</th>\n",
       "      <td>NEW SEC FILING FOR GME! CAN SOMEONE LESS RETAR...</td>\n",
       "      <td>29</td>\n",
       "      <td>l6ugk6</td>\n",
       "      <td>https://sec.report/Document/0001193125-21-019848/</td>\n",
       "      <td>74</td>\n",
       "      <td>1.611862e+09</td>\n",
       "      <td>NaN</td>\n",
       "      <td>2021-01-28 21:28:57</td>\n",
       "    </tr>\n",
       "    <tr>\n",
       "      <th>4</th>\n",
       "      <td>Not to distract from GME, just thought our AMC...</td>\n",
       "      <td>71</td>\n",
       "      <td>l6ufgy</td>\n",
       "      <td>https://i.redd.it/4h2sukb662e61.jpg</td>\n",
       "      <td>156</td>\n",
       "      <td>1.611862e+09</td>\n",
       "      <td>NaN</td>\n",
       "      <td>2021-01-28 21:26:56</td>\n",
       "    </tr>\n",
       "  </tbody>\n",
       "</table>\n",
       "</div>"
      ],
      "text/plain": [
       "                                               title  score      id  \\\n",
       "0  It's not about the money, it's about sending a...     55  l6ulcx   \n",
       "1  Math Professor Scott Steiner says the numbers ...    110  l6uibd   \n",
       "2                                    Exit the system      0  l6uhhn   \n",
       "3  NEW SEC FILING FOR GME! CAN SOMEONE LESS RETAR...     29  l6ugk6   \n",
       "4  Not to distract from GME, just thought our AMC...     71  l6ufgy   \n",
       "\n",
       "                                                 url  comms_num       created  \\\n",
       "0                    https://v.redd.it/6j75regs72e61          6  1.611863e+09   \n",
       "1                    https://v.redd.it/ah50lyny62e61         23  1.611862e+09   \n",
       "2  https://www.reddit.com/r/wallstreetbets/commen...         47  1.611862e+09   \n",
       "3  https://sec.report/Document/0001193125-21-019848/         74  1.611862e+09   \n",
       "4                https://i.redd.it/4h2sukb662e61.jpg        156  1.611862e+09   \n",
       "\n",
       "                                                body            timestamp  \n",
       "0                                                NaN  2021-01-28 21:37:41  \n",
       "1                                                NaN  2021-01-28 21:32:10  \n",
       "2  The CEO of NASDAQ pushed to halt trading “to g...  2021-01-28 21:30:35  \n",
       "3                                                NaN  2021-01-28 21:28:57  \n",
       "4                                                NaN  2021-01-28 21:26:56  "
      ]
     },
     "execution_count": 224,
     "metadata": {},
     "output_type": "execute_result"
    }
   ],
   "source": [
    "## load data\n",
    "reddit_data = pd.read_csv(\"reddit_wsb.csv\")\n",
    "\n",
    "print([x for x in reddit_data.columns])\n",
    "reddit_data.head()"
   ]
  },
  {
   "cell_type": "markdown",
   "metadata": {},
   "source": [
    "The data appears to be nicely organized. However, the 'created', 'url', and 'id' columns would be useless in our planned analysis. Let's remove these from the dataframe."
   ]
  },
  {
   "cell_type": "code",
   "execution_count": 243,
   "metadata": {},
   "outputs": [
    {
     "data": {
      "text/html": [
       "<div>\n",
       "<style scoped>\n",
       "    .dataframe tbody tr th:only-of-type {\n",
       "        vertical-align: middle;\n",
       "    }\n",
       "\n",
       "    .dataframe tbody tr th {\n",
       "        vertical-align: top;\n",
       "    }\n",
       "\n",
       "    .dataframe thead th {\n",
       "        text-align: right;\n",
       "    }\n",
       "</style>\n",
       "<table border=\"1\" class=\"dataframe\">\n",
       "  <thead>\n",
       "    <tr style=\"text-align: right;\">\n",
       "      <th></th>\n",
       "      <th>title</th>\n",
       "      <th>score</th>\n",
       "      <th>comms_num</th>\n",
       "      <th>body</th>\n",
       "      <th>timestamp</th>\n",
       "    </tr>\n",
       "  </thead>\n",
       "  <tbody>\n",
       "    <tr>\n",
       "      <th>0</th>\n",
       "      <td>It's not about the money, it's about sending a...</td>\n",
       "      <td>55</td>\n",
       "      <td>6</td>\n",
       "      <td>NaN</td>\n",
       "      <td>2021-01-28 21:37:41</td>\n",
       "    </tr>\n",
       "    <tr>\n",
       "      <th>1</th>\n",
       "      <td>Math Professor Scott Steiner says the numbers ...</td>\n",
       "      <td>110</td>\n",
       "      <td>23</td>\n",
       "      <td>NaN</td>\n",
       "      <td>2021-01-28 21:32:10</td>\n",
       "    </tr>\n",
       "    <tr>\n",
       "      <th>2</th>\n",
       "      <td>Exit the system</td>\n",
       "      <td>0</td>\n",
       "      <td>47</td>\n",
       "      <td>The CEO of NASDAQ pushed to halt trading “to g...</td>\n",
       "      <td>2021-01-28 21:30:35</td>\n",
       "    </tr>\n",
       "    <tr>\n",
       "      <th>3</th>\n",
       "      <td>NEW SEC FILING FOR GME! CAN SOMEONE LESS RETAR...</td>\n",
       "      <td>29</td>\n",
       "      <td>74</td>\n",
       "      <td>NaN</td>\n",
       "      <td>2021-01-28 21:28:57</td>\n",
       "    </tr>\n",
       "    <tr>\n",
       "      <th>4</th>\n",
       "      <td>Not to distract from GME, just thought our AMC...</td>\n",
       "      <td>71</td>\n",
       "      <td>156</td>\n",
       "      <td>NaN</td>\n",
       "      <td>2021-01-28 21:26:56</td>\n",
       "    </tr>\n",
       "  </tbody>\n",
       "</table>\n",
       "</div>"
      ],
      "text/plain": [
       "                                               title  score  comms_num  \\\n",
       "0  It's not about the money, it's about sending a...     55          6   \n",
       "1  Math Professor Scott Steiner says the numbers ...    110         23   \n",
       "2                                    Exit the system      0         47   \n",
       "3  NEW SEC FILING FOR GME! CAN SOMEONE LESS RETAR...     29         74   \n",
       "4  Not to distract from GME, just thought our AMC...     71        156   \n",
       "\n",
       "                                                body            timestamp  \n",
       "0                                                NaN  2021-01-28 21:37:41  \n",
       "1                                                NaN  2021-01-28 21:32:10  \n",
       "2  The CEO of NASDAQ pushed to halt trading “to g...  2021-01-28 21:30:35  \n",
       "3                                                NaN  2021-01-28 21:28:57  \n",
       "4                                                NaN  2021-01-28 21:26:56  "
      ]
     },
     "execution_count": 243,
     "metadata": {},
     "output_type": "execute_result"
    }
   ],
   "source": [
    "reddit_data = reddit_data.drop(columns=['url', 'id', 'created'])\n",
    "\n",
    "reddit_data.head()"
   ]
  },
  {
   "cell_type": "markdown",
   "metadata": {},
   "source": [
    "Reddit gives users the option to provide a body to whatever topic that they post. Sometimes posts that generate alot of traffic have no body at all! The 'body' column is not much of particular direct interest and would. However we felt that it was necessary to capture the length of each post body if it was provided using numerical values.   "
   ]
  },
  {
   "cell_type": "code",
   "execution_count": 250,
   "metadata": {},
   "outputs": [
    {
     "data": {
      "text/plain": [
       "'The CEO of NASDAQ pushed to halt trading “to give investors a chance to recalibrate their positions”.\\n\\n[https://mobile.twitter.com/Mediaite/status/1354504710695362563](https://mobile.twitter.com/Mediaite/status/1354504710695362563)\\n\\nNow SEC is investigating, brokers are disallowing buying more calls. This is the institutions flat out admitting they will change the rules to bail out the rich but if it happens to us, we get a “well shucks you should have known investing is risky! have you tried cutting out avocados and coffee, maybe doing Uber on the side?”\\n\\nWe may have collectively driven up enough sentiment in wall street to make other big players go long on GME with us (we do not have the money to move the stock as much as it did alone). we didn’t hurt wall street as a whole, just a few funds went down while others went up and profited off the shorts the same as us. The media wants to pin the blame on us.\\n\\nIt should be crystal clear that this is a rigged game by now. Its time to build new exchanges that can’t arbitrarily change the rules on us. Cr\\\\*\\\\*o has some version of these, maybe they can be repurposed to be trade stock without government intervention. I don’t know exactly what it will look like yet, but the broad next steps i see are - 1. exit the current financial system 2. build a new one.'"
      ]
     },
     "execution_count": 250,
     "metadata": {},
     "output_type": "execute_result"
    }
   ],
   "source": [
    "reddit_data['body'][2]"
   ]
  },
  {
   "cell_type": "code",
   "execution_count": 253,
   "metadata": {},
   "outputs": [
    {
     "name": "stdout",
     "output_type": "stream",
     "text": [
      "Length of the post body is 1319\n"
     ]
    }
   ],
   "source": [
    "print(\"Length of the post body is {}\".format(len(reddit_data['body'][2])))"
   ]
  },
  {
   "cell_type": "markdown",
   "metadata": {},
   "source": [
    "We can start by converting each string to character lenght using the [str.len()](https://pandas.pydata.org/pandas-docs/stable/reference/api/pandas.Series.str.len.html) function for pandas series. Notice for row 3 that the post body is also 1319 like before."
   ]
  },
  {
   "cell_type": "code",
   "execution_count": 263,
   "metadata": {},
   "outputs": [
    {
     "data": {
      "text/html": [
       "<div>\n",
       "<style scoped>\n",
       "    .dataframe tbody tr th:only-of-type {\n",
       "        vertical-align: middle;\n",
       "    }\n",
       "\n",
       "    .dataframe tbody tr th {\n",
       "        vertical-align: top;\n",
       "    }\n",
       "\n",
       "    .dataframe thead th {\n",
       "        text-align: right;\n",
       "    }\n",
       "</style>\n",
       "<table border=\"1\" class=\"dataframe\">\n",
       "  <thead>\n",
       "    <tr style=\"text-align: right;\">\n",
       "      <th></th>\n",
       "      <th>title</th>\n",
       "      <th>score</th>\n",
       "      <th>comms_num</th>\n",
       "      <th>body</th>\n",
       "      <th>timestamp</th>\n",
       "    </tr>\n",
       "  </thead>\n",
       "  <tbody>\n",
       "    <tr>\n",
       "      <th>0</th>\n",
       "      <td>It's not about the money, it's about sending a...</td>\n",
       "      <td>55</td>\n",
       "      <td>6</td>\n",
       "      <td>NaN</td>\n",
       "      <td>2021-01-28 21:37:41</td>\n",
       "    </tr>\n",
       "    <tr>\n",
       "      <th>1</th>\n",
       "      <td>Math Professor Scott Steiner says the numbers ...</td>\n",
       "      <td>110</td>\n",
       "      <td>23</td>\n",
       "      <td>NaN</td>\n",
       "      <td>2021-01-28 21:32:10</td>\n",
       "    </tr>\n",
       "    <tr>\n",
       "      <th>2</th>\n",
       "      <td>Exit the system</td>\n",
       "      <td>0</td>\n",
       "      <td>47</td>\n",
       "      <td>1319.0</td>\n",
       "      <td>2021-01-28 21:30:35</td>\n",
       "    </tr>\n",
       "    <tr>\n",
       "      <th>3</th>\n",
       "      <td>NEW SEC FILING FOR GME! CAN SOMEONE LESS RETAR...</td>\n",
       "      <td>29</td>\n",
       "      <td>74</td>\n",
       "      <td>NaN</td>\n",
       "      <td>2021-01-28 21:28:57</td>\n",
       "    </tr>\n",
       "    <tr>\n",
       "      <th>4</th>\n",
       "      <td>Not to distract from GME, just thought our AMC...</td>\n",
       "      <td>71</td>\n",
       "      <td>156</td>\n",
       "      <td>NaN</td>\n",
       "      <td>2021-01-28 21:26:56</td>\n",
       "    </tr>\n",
       "  </tbody>\n",
       "</table>\n",
       "</div>"
      ],
      "text/plain": [
       "                                               title  score  comms_num  \\\n",
       "0  It's not about the money, it's about sending a...     55          6   \n",
       "1  Math Professor Scott Steiner says the numbers ...    110         23   \n",
       "2                                    Exit the system      0         47   \n",
       "3  NEW SEC FILING FOR GME! CAN SOMEONE LESS RETAR...     29         74   \n",
       "4  Not to distract from GME, just thought our AMC...     71        156   \n",
       "\n",
       "     body            timestamp  \n",
       "0     NaN  2021-01-28 21:37:41  \n",
       "1     NaN  2021-01-28 21:32:10  \n",
       "2  1319.0  2021-01-28 21:30:35  \n",
       "3     NaN  2021-01-28 21:28:57  \n",
       "4     NaN  2021-01-28 21:26:56  "
      ]
     },
     "execution_count": 263,
     "metadata": {},
     "output_type": "execute_result"
    }
   ],
   "source": [
    "reddit_data['body'] = reddit_data['body'].str.len()\n",
    "\n",
    "reddit_data.head()"
   ]
  },
  {
   "cell_type": "markdown",
   "metadata": {},
   "source": [
    "Next we can convert the NaN values in the body column back into 0s. This will indicate that the post has no body."
   ]
  },
  {
   "cell_type": "code",
   "execution_count": 300,
   "metadata": {},
   "outputs": [
    {
     "data": {
      "text/html": [
       "<div>\n",
       "<style scoped>\n",
       "    .dataframe tbody tr th:only-of-type {\n",
       "        vertical-align: middle;\n",
       "    }\n",
       "\n",
       "    .dataframe tbody tr th {\n",
       "        vertical-align: top;\n",
       "    }\n",
       "\n",
       "    .dataframe thead th {\n",
       "        text-align: right;\n",
       "    }\n",
       "</style>\n",
       "<table border=\"1\" class=\"dataframe\">\n",
       "  <thead>\n",
       "    <tr style=\"text-align: right;\">\n",
       "      <th></th>\n",
       "      <th>title</th>\n",
       "      <th>score</th>\n",
       "      <th>comms_num</th>\n",
       "      <th>body</th>\n",
       "      <th>timestamp</th>\n",
       "    </tr>\n",
       "  </thead>\n",
       "  <tbody>\n",
       "    <tr>\n",
       "      <th>0</th>\n",
       "      <td>It's not about the money, it's about sending a...</td>\n",
       "      <td>55</td>\n",
       "      <td>6</td>\n",
       "      <td>0.0</td>\n",
       "      <td>2021-01-28 21:37:41</td>\n",
       "    </tr>\n",
       "    <tr>\n",
       "      <th>1</th>\n",
       "      <td>Math Professor Scott Steiner says the numbers ...</td>\n",
       "      <td>110</td>\n",
       "      <td>23</td>\n",
       "      <td>0.0</td>\n",
       "      <td>2021-01-28 21:32:10</td>\n",
       "    </tr>\n",
       "    <tr>\n",
       "      <th>2</th>\n",
       "      <td>Exit the system</td>\n",
       "      <td>0</td>\n",
       "      <td>47</td>\n",
       "      <td>1319.0</td>\n",
       "      <td>2021-01-28 21:30:35</td>\n",
       "    </tr>\n",
       "    <tr>\n",
       "      <th>3</th>\n",
       "      <td>NEW SEC FILING FOR GME! CAN SOMEONE LESS RETAR...</td>\n",
       "      <td>29</td>\n",
       "      <td>74</td>\n",
       "      <td>0.0</td>\n",
       "      <td>2021-01-28 21:28:57</td>\n",
       "    </tr>\n",
       "    <tr>\n",
       "      <th>4</th>\n",
       "      <td>Not to distract from GME, just thought our AMC...</td>\n",
       "      <td>71</td>\n",
       "      <td>156</td>\n",
       "      <td>0.0</td>\n",
       "      <td>2021-01-28 21:26:56</td>\n",
       "    </tr>\n",
       "  </tbody>\n",
       "</table>\n",
       "</div>"
      ],
      "text/plain": [
       "                                               title  score  comms_num  \\\n",
       "0  It's not about the money, it's about sending a...     55          6   \n",
       "1  Math Professor Scott Steiner says the numbers ...    110         23   \n",
       "2                                    Exit the system      0         47   \n",
       "3  NEW SEC FILING FOR GME! CAN SOMEONE LESS RETAR...     29         74   \n",
       "4  Not to distract from GME, just thought our AMC...     71        156   \n",
       "\n",
       "     body            timestamp  \n",
       "0     0.0  2021-01-28 21:37:41  \n",
       "1     0.0  2021-01-28 21:32:10  \n",
       "2  1319.0  2021-01-28 21:30:35  \n",
       "3     0.0  2021-01-28 21:28:57  \n",
       "4     0.0  2021-01-28 21:26:56  "
      ]
     },
     "execution_count": 300,
     "metadata": {},
     "output_type": "execute_result"
    }
   ],
   "source": [
    "reddit_data = reddit_data.fillna(0)\n",
    "\n",
    "reddit_data.head()"
   ]
  },
  {
   "cell_type": "markdown",
   "metadata": {},
   "source": [
    "Let's now examine the 'timestamp' column."
   ]
  },
  {
   "cell_type": "code",
   "execution_count": 304,
   "metadata": {},
   "outputs": [
    {
     "name": "stdout",
     "output_type": "stream",
     "text": [
      "<class 'str'>\n"
     ]
    }
   ],
   "source": [
    "time = reddit_data['timestamp'][0]\n",
    "print(type(time))"
   ]
  },
  {
   "cell_type": "markdown",
   "metadata": {},
   "source": [
    "Each timestamp is a string object, it would be more useful to convert each time to a datetime object as it would make for easier comparison."
   ]
  },
  {
   "cell_type": "code",
   "execution_count": 312,
   "metadata": {},
   "outputs": [],
   "source": [
    "reddit_data['timestamp'] = pd.to_datetime(reddit_data['timestamp'], format = '%Y-%m-%d %H:%M:%S')"
   ]
  },
  {
   "cell_type": "code",
   "execution_count": 314,
   "metadata": {},
   "outputs": [
    {
     "name": "stdout",
     "output_type": "stream",
     "text": [
      "<class 'pandas._libs.tslibs.timestamps.Timestamp'>\n"
     ]
    }
   ],
   "source": [
    "time = reddit_data['timestamp'][0]\n",
    "print(type(time))"
   ]
  },
  {
   "cell_type": "markdown",
   "metadata": {},
   "source": [
    "Let's do a simple comparison to test out the power of datetime"
   ]
  },
  {
   "cell_type": "code",
   "execution_count": 317,
   "metadata": {},
   "outputs": [
    {
     "data": {
      "text/plain": [
       "True"
      ]
     },
     "execution_count": 317,
     "metadata": {},
     "output_type": "execute_result"
    }
   ],
   "source": [
    "time_2 = reddit_data['timestamp'][1]\n",
    "time > time_2"
   ]
  },
  {
   "cell_type": "markdown",
   "metadata": {},
   "source": [
    "The Above result makes sense since the dataset is already sorted by post timestamp in decreasing order."
   ]
  },
  {
   "cell_type": "markdown",
   "metadata": {},
   "source": [
    "The r/wallstreetbets dataset is ready for use!"
   ]
  },
  {
   "cell_type": "markdown",
   "metadata": {},
   "source": [
    "#### Intraday GameStop (GME) Stock Data\n",
    "\n",
    "Our original intention was to utilize this [Kaggle](https://www.kaggle.com/xiaonhuang/gamestop-stock-data) data set or others of a similar basis. We determined that this would not yield good analyis as the stock prices were tracked only on a daily basis. While good for analyzing GME stock over a long term basis, the data would have failed to meet our needs since we wanted to hyper focus on relatively short and specific window in time. We therefore needed intraday day (stock prices within each day) data that we could query over the past two months (late January to March). After much research we settled on using [Alpha Vantage's Free API](https://www.alphavantage.co/). The API allows users to query relevant stock data through JSON while also featuring a convenient Python wrapper."
   ]
  },
  {
   "cell_type": "markdown",
   "metadata": {},
   "source": [
    "Here is the documentation for the [API](https://www.alphavantage.co/documentation/) and the [Python Wrapper](https://github.com/RomelTorres/alpha_vantage)"
   ]
  },
  {
   "cell_type": "markdown",
   "metadata": {},
   "source": [
    "Let's first make sure that Alpha Vantage is correctly installed as it required for us to proceed. "
   ]
  },
  {
   "cell_type": "code",
   "execution_count": 218,
   "metadata": {},
   "outputs": [
    {
     "name": "stdout",
     "output_type": "stream",
     "text": [
      "Requirement already satisfied: alpha_vantage in c:\\users\\djfle\\anaconda3\\lib\\site-packages (2.3.1)\n",
      "Requirement already satisfied: pandas in c:\\users\\djfle\\anaconda3\\lib\\site-packages (1.1.3)\n",
      "Requirement already satisfied: aiohttp in c:\\users\\djfle\\anaconda3\\lib\\site-packages (from alpha_vantage) (3.7.4.post0)\n",
      "Requirement already satisfied: requests in c:\\users\\djfle\\anaconda3\\lib\\site-packages (from alpha_vantage) (2.24.0)\n",
      "Requirement already satisfied: pytz>=2017.2 in c:\\users\\djfle\\anaconda3\\lib\\site-packages (from pandas) (2020.1)\n",
      "Requirement already satisfied: python-dateutil>=2.7.3 in c:\\users\\djfle\\anaconda3\\lib\\site-packages (from pandas) (2.8.1)\n",
      "Requirement already satisfied: numpy>=1.15.4 in c:\\users\\djfle\\anaconda3\\lib\\site-packages (from pandas) (1.19.2)\n",
      "Requirement already satisfied: attrs>=17.3.0 in c:\\users\\djfle\\anaconda3\\lib\\site-packages (from aiohttp->alpha_vantage) (20.3.0)\n",
      "Requirement already satisfied: yarl<2.0,>=1.0 in c:\\users\\djfle\\anaconda3\\lib\\site-packages (from aiohttp->alpha_vantage) (1.6.3)\n",
      "Requirement already satisfied: multidict<7.0,>=4.5 in c:\\users\\djfle\\anaconda3\\lib\\site-packages (from aiohttp->alpha_vantage) (5.1.0)\n",
      "Requirement already satisfied: typing-extensions>=3.6.5 in c:\\users\\djfle\\anaconda3\\lib\\site-packages (from aiohttp->alpha_vantage) (3.7.4.3)\n",
      "Requirement already satisfied: chardet<5.0,>=2.0 in c:\\users\\djfle\\anaconda3\\lib\\site-packages (from aiohttp->alpha_vantage) (3.0.4)\n",
      "Requirement already satisfied: async-timeout<4.0,>=3.0 in c:\\users\\djfle\\anaconda3\\lib\\site-packages (from aiohttp->alpha_vantage) (3.0.1)\n",
      "Requirement already satisfied: idna<3,>=2.5 in c:\\users\\djfle\\anaconda3\\lib\\site-packages (from requests->alpha_vantage) (2.10)\n",
      "Requirement already satisfied: certifi>=2017.4.17 in c:\\users\\djfle\\anaconda3\\lib\\site-packages (from requests->alpha_vantage) (2020.6.20)\n",
      "Requirement already satisfied: urllib3!=1.25.0,!=1.25.1,<1.26,>=1.21.1 in c:\\users\\djfle\\anaconda3\\lib\\site-packages (from requests->alpha_vantage) (1.25.11)\n",
      "Requirement already satisfied: six>=1.5 in c:\\users\\djfle\\anaconda3\\lib\\site-packages (from python-dateutil>=2.7.3->pandas) (1.15.0)\n"
     ]
    }
   ],
   "source": [
    "#install alpha vantage dependecy\n",
    "import sys\n",
    "!{sys.executable} -m pip install alpha_vantage pandas"
   ]
  },
  {
   "cell_type": "markdown",
   "metadata": {},
   "source": [
    "Next let's import the necessary package as well as document our personal API key that we recieved after signup on the website."
   ]
  },
  {
   "cell_type": "code",
   "execution_count": 220,
   "metadata": {},
   "outputs": [],
   "source": [
    "from alpha_vantage.timeseries import TimeSeries\n",
    "api_Key = 'KEAXGCPUD9F322NN'\n",
    "ts = TimeSeries(key = api_Key, output_format = 'csv')"
   ]
  },
  {
   "cell_type": "markdown",
   "metadata": {},
   "source": [
    "Now let's grab the GME data using the API. (* Note - Do not run this cell many times, you are limited to 5 calls every 5 minutes and 500 every day). "
   ]
  },
  {
   "cell_type": "code",
   "execution_count": 227,
   "metadata": {},
   "outputs": [],
   "source": [
    "#download the csvs\n",
    "gme_data_month_1 = ts.get_intraday_extended(symbol = 'GME', interval = '30min', slice = 'year1month2')\n",
    "gme_data_month_2 = ts.get_intraday_extended(symbol = 'GME', interval = '30min', slice = 'year1month1')"
   ]
  },
  {
   "cell_type": "markdown",
   "metadata": {},
   "source": [
    "The above api calls work as follows. [ts.get_intaday_extended](https://www.alphavantage.co/documentation/) returns historical intraday time series of a given equity (GME in our case) for the trailing 2 years, covering over 2 million data points per ticker. The argument 'symbol' is the name of the equity of your choice. The argument 'interval' is the time interval between two consecutive data points in the time series. The following values are supported: 1min, 5min, 15min, 30min, 60min. The arguemnt slice is the desired trailing 2 years of intraday data is evenly divided into 24 \"slices\". Each slice is a 30-day window, with year1month1 being the most recent and year2month12 being the farthest from today.\n",
    "\n",
    "Since we wanted to focus deeply on GME over the last two months, we used 30min intervals and 'year1month2' and 'year1month1' time slices. The api called returned a csv objects that we can easily minuplate by converting to pandas dataframe."
   ]
  },
  {
   "cell_type": "code",
   "execution_count": 228,
   "metadata": {},
   "outputs": [],
   "source": [
    "#csv --> dataframe\n",
    "gme_data_month_1 = pd.DataFrame(list(gme_data_month_1[0]))\n",
    "gme_data_month_2 = pd.DataFrame(list(gme_data_month_2[0]))"
   ]
  },
  {
   "cell_type": "markdown",
   "metadata": {},
   "source": [
    "Let's see how one looks."
   ]
  },
  {
   "cell_type": "code",
   "execution_count": 232,
   "metadata": {},
   "outputs": [
    {
     "data": {
      "text/html": [
       "<div>\n",
       "<style scoped>\n",
       "    .dataframe tbody tr th:only-of-type {\n",
       "        vertical-align: middle;\n",
       "    }\n",
       "\n",
       "    .dataframe tbody tr th {\n",
       "        vertical-align: top;\n",
       "    }\n",
       "\n",
       "    .dataframe thead th {\n",
       "        text-align: right;\n",
       "    }\n",
       "</style>\n",
       "<table border=\"1\" class=\"dataframe\">\n",
       "  <thead>\n",
       "    <tr style=\"text-align: right;\">\n",
       "      <th></th>\n",
       "      <th>0</th>\n",
       "      <th>1</th>\n",
       "      <th>2</th>\n",
       "      <th>3</th>\n",
       "      <th>4</th>\n",
       "      <th>5</th>\n",
       "    </tr>\n",
       "  </thead>\n",
       "  <tbody>\n",
       "    <tr>\n",
       "      <th>0</th>\n",
       "      <td>time</td>\n",
       "      <td>open</td>\n",
       "      <td>high</td>\n",
       "      <td>low</td>\n",
       "      <td>close</td>\n",
       "      <td>volume</td>\n",
       "    </tr>\n",
       "    <tr>\n",
       "      <th>1</th>\n",
       "      <td>2021-03-19 20:00:00</td>\n",
       "      <td>199.31</td>\n",
       "      <td>199.4</td>\n",
       "      <td>198.5601</td>\n",
       "      <td>199.0</td>\n",
       "      <td>14316</td>\n",
       "    </tr>\n",
       "    <tr>\n",
       "      <th>2</th>\n",
       "      <td>2021-03-19 19:30:00</td>\n",
       "      <td>199.98</td>\n",
       "      <td>199.99</td>\n",
       "      <td>199.2</td>\n",
       "      <td>199.3</td>\n",
       "      <td>6403</td>\n",
       "    </tr>\n",
       "    <tr>\n",
       "      <th>3</th>\n",
       "      <td>2021-03-19 19:00:00</td>\n",
       "      <td>199.1</td>\n",
       "      <td>200.0</td>\n",
       "      <td>199.0</td>\n",
       "      <td>200.0</td>\n",
       "      <td>15086</td>\n",
       "    </tr>\n",
       "    <tr>\n",
       "      <th>4</th>\n",
       "      <td>2021-03-19 18:30:00</td>\n",
       "      <td>200.24</td>\n",
       "      <td>200.29</td>\n",
       "      <td>199.01</td>\n",
       "      <td>199.4</td>\n",
       "      <td>20833</td>\n",
       "    </tr>\n",
       "  </tbody>\n",
       "</table>\n",
       "</div>"
      ],
      "text/plain": [
       "                     0       1       2         3      4       5\n",
       "0                 time    open    high       low  close  volume\n",
       "1  2021-03-19 20:00:00  199.31   199.4  198.5601  199.0   14316\n",
       "2  2021-03-19 19:30:00  199.98  199.99     199.2  199.3    6403\n",
       "3  2021-03-19 19:00:00   199.1   200.0     199.0  200.0   15086\n",
       "4  2021-03-19 18:30:00  200.24  200.29    199.01  199.4   20833"
      ]
     },
     "execution_count": 232,
     "metadata": {},
     "output_type": "execute_result"
    }
   ],
   "source": [
    "gme_data_month_2.head()"
   ]
  },
  {
   "cell_type": "markdown",
   "metadata": {},
   "source": [
    "It's a good start, but lets modify the columns and index to make things more uniform and save the dataframe to a csv. It is necessary to save the data to a csv since we don't want to be calling the Alpha Vantage Api every time we want to look at the data. Also, the api reports live data, so it would be important to cutoff the data at a certain point. "
   ]
  },
  {
   "cell_type": "code",
   "execution_count": 233,
   "metadata": {},
   "outputs": [],
   "source": [
    "#setup of column and index\n",
    "header_row=0\n",
    "gme_data_month_1.columns = gme_data_month_1.iloc[header_row]\n",
    "gme_data_month_2.columns = gme_data_month_2.iloc[header_row]\n",
    "\n",
    "gme_data_month_1 = gme_data_month_1.drop(header_row)\n",
    "gme_data_month_2 = gme_data_month_2.drop(header_row)\n",
    "\n",
    "gme_data_month_1 = gme_data_month_1.reset_index()\n",
    "gme_data_month_2 = gme_data_month_2.reset_index()\n",
    "\n",
    "gme_data_month_1 = gme_data_month_1.drop(columns=['index'])\n",
    "gme_data_month_2 = gme_data_month_2.drop(columns=['index'])\n",
    "\n",
    "#save dataframes to csv\n",
    "gme_data_month_1.to_csv(r'./gme_month_1.csv')\n",
    "gme_data_month_2.to_csv(r'./gme_month_2.csv')"
   ]
  },
  {
   "cell_type": "markdown",
   "metadata": {},
   "source": [
    "Let's open the csv files which should be saved to the root folder of the project."
   ]
  },
  {
   "cell_type": "code",
   "execution_count": 239,
   "metadata": {},
   "outputs": [
    {
     "data": {
      "text/html": [
       "<div>\n",
       "<style scoped>\n",
       "    .dataframe tbody tr th:only-of-type {\n",
       "        vertical-align: middle;\n",
       "    }\n",
       "\n",
       "    .dataframe tbody tr th {\n",
       "        vertical-align: top;\n",
       "    }\n",
       "\n",
       "    .dataframe thead th {\n",
       "        text-align: right;\n",
       "    }\n",
       "</style>\n",
       "<table border=\"1\" class=\"dataframe\">\n",
       "  <thead>\n",
       "    <tr style=\"text-align: right;\">\n",
       "      <th></th>\n",
       "      <th>Unnamed: 0</th>\n",
       "      <th>time</th>\n",
       "      <th>open</th>\n",
       "      <th>high</th>\n",
       "      <th>low</th>\n",
       "      <th>close</th>\n",
       "      <th>volume</th>\n",
       "    </tr>\n",
       "  </thead>\n",
       "  <tbody>\n",
       "    <tr>\n",
       "      <th>0</th>\n",
       "      <td>0</td>\n",
       "      <td>2021-02-17 20:00:00</td>\n",
       "      <td>46.1999</td>\n",
       "      <td>46.45</td>\n",
       "      <td>46.1700</td>\n",
       "      <td>46.45</td>\n",
       "      <td>16394</td>\n",
       "    </tr>\n",
       "    <tr>\n",
       "      <th>1</th>\n",
       "      <td>1</td>\n",
       "      <td>2021-02-17 19:30:00</td>\n",
       "      <td>46.0801</td>\n",
       "      <td>46.25</td>\n",
       "      <td>46.0801</td>\n",
       "      <td>46.24</td>\n",
       "      <td>2989</td>\n",
       "    </tr>\n",
       "    <tr>\n",
       "      <th>2</th>\n",
       "      <td>2</td>\n",
       "      <td>2021-02-17 19:00:00</td>\n",
       "      <td>46.2500</td>\n",
       "      <td>46.25</td>\n",
       "      <td>46.1000</td>\n",
       "      <td>46.10</td>\n",
       "      <td>4796</td>\n",
       "    </tr>\n",
       "    <tr>\n",
       "      <th>3</th>\n",
       "      <td>3</td>\n",
       "      <td>2021-02-17 18:30:00</td>\n",
       "      <td>46.1300</td>\n",
       "      <td>46.40</td>\n",
       "      <td>46.0800</td>\n",
       "      <td>46.20</td>\n",
       "      <td>11222</td>\n",
       "    </tr>\n",
       "    <tr>\n",
       "      <th>4</th>\n",
       "      <td>4</td>\n",
       "      <td>2021-02-17 18:00:00</td>\n",
       "      <td>46.0000</td>\n",
       "      <td>46.45</td>\n",
       "      <td>46.0000</td>\n",
       "      <td>46.28</td>\n",
       "      <td>23431</td>\n",
       "    </tr>\n",
       "  </tbody>\n",
       "</table>\n",
       "</div>"
      ],
      "text/plain": [
       "   Unnamed: 0                 time     open   high      low  close  volume\n",
       "0           0  2021-02-17 20:00:00  46.1999  46.45  46.1700  46.45   16394\n",
       "1           1  2021-02-17 19:30:00  46.0801  46.25  46.0801  46.24    2989\n",
       "2           2  2021-02-17 19:00:00  46.2500  46.25  46.1000  46.10    4796\n",
       "3           3  2021-02-17 18:30:00  46.1300  46.40  46.0800  46.20   11222\n",
       "4           4  2021-02-17 18:00:00  46.0000  46.45  46.0000  46.28   23431"
      ]
     },
     "execution_count": 239,
     "metadata": {},
     "output_type": "execute_result"
    }
   ],
   "source": [
    "gme_data_month_1 = pd.read_csv(\"gme_month_1.csv\")\n",
    "gme_data_month_2 = pd.read_csv(\"gme_month_2.csv\")\n",
    "\n",
    "gme_data_month_1.head()"
   ]
  },
  {
   "cell_type": "markdown",
   "metadata": {},
   "source": [
    "This is much better, but we seemed to have added a 'unamed: 0' column into our dataframe. Let's simply drop it."
   ]
  },
  {
   "cell_type": "code",
   "execution_count": 240,
   "metadata": {},
   "outputs": [],
   "source": [
    "gme_data_month_1 = gme_data_month_1.drop(columns=['Unnamed: 0'])\n",
    "gme_data_month_2 = gme_data_month_2.drop(columns=['Unnamed: 0'])\n"
   ]
  },
  {
   "cell_type": "code",
   "execution_count": 320,
   "metadata": {},
   "outputs": [
    {
     "data": {
      "text/html": [
       "<div>\n",
       "<style scoped>\n",
       "    .dataframe tbody tr th:only-of-type {\n",
       "        vertical-align: middle;\n",
       "    }\n",
       "\n",
       "    .dataframe tbody tr th {\n",
       "        vertical-align: top;\n",
       "    }\n",
       "\n",
       "    .dataframe thead th {\n",
       "        text-align: right;\n",
       "    }\n",
       "</style>\n",
       "<table border=\"1\" class=\"dataframe\">\n",
       "  <thead>\n",
       "    <tr style=\"text-align: right;\">\n",
       "      <th></th>\n",
       "      <th>time</th>\n",
       "      <th>open</th>\n",
       "      <th>high</th>\n",
       "      <th>low</th>\n",
       "      <th>close</th>\n",
       "      <th>volume</th>\n",
       "    </tr>\n",
       "  </thead>\n",
       "  <tbody>\n",
       "    <tr>\n",
       "      <th>0</th>\n",
       "      <td>2021-03-19 20:00:00</td>\n",
       "      <td>199.3100</td>\n",
       "      <td>199.40</td>\n",
       "      <td>198.5601</td>\n",
       "      <td>199.00</td>\n",
       "      <td>14316</td>\n",
       "    </tr>\n",
       "    <tr>\n",
       "      <th>1</th>\n",
       "      <td>2021-03-19 19:30:00</td>\n",
       "      <td>199.9800</td>\n",
       "      <td>199.99</td>\n",
       "      <td>199.2000</td>\n",
       "      <td>199.30</td>\n",
       "      <td>6403</td>\n",
       "    </tr>\n",
       "    <tr>\n",
       "      <th>2</th>\n",
       "      <td>2021-03-19 19:00:00</td>\n",
       "      <td>199.1000</td>\n",
       "      <td>200.00</td>\n",
       "      <td>199.0000</td>\n",
       "      <td>200.00</td>\n",
       "      <td>15086</td>\n",
       "    </tr>\n",
       "    <tr>\n",
       "      <th>3</th>\n",
       "      <td>2021-03-19 18:30:00</td>\n",
       "      <td>200.2400</td>\n",
       "      <td>200.29</td>\n",
       "      <td>199.0100</td>\n",
       "      <td>199.40</td>\n",
       "      <td>20833</td>\n",
       "    </tr>\n",
       "    <tr>\n",
       "      <th>4</th>\n",
       "      <td>2021-03-19 18:00:00</td>\n",
       "      <td>199.5972</td>\n",
       "      <td>200.40</td>\n",
       "      <td>199.5500</td>\n",
       "      <td>200.24</td>\n",
       "      <td>14931</td>\n",
       "    </tr>\n",
       "  </tbody>\n",
       "</table>\n",
       "</div>"
      ],
      "text/plain": [
       "                  time      open    high       low   close  volume\n",
       "0  2021-03-19 20:00:00  199.3100  199.40  198.5601  199.00   14316\n",
       "1  2021-03-19 19:30:00  199.9800  199.99  199.2000  199.30    6403\n",
       "2  2021-03-19 19:00:00  199.1000  200.00  199.0000  200.00   15086\n",
       "3  2021-03-19 18:30:00  200.2400  200.29  199.0100  199.40   20833\n",
       "4  2021-03-19 18:00:00  199.5972  200.40  199.5500  200.24   14931"
      ]
     },
     "execution_count": 320,
     "metadata": {},
     "output_type": "execute_result"
    }
   ],
   "source": [
    "gme_data_month_2.columns\n",
    "gme_data_month_2.head()"
   ]
  },
  {
   "cell_type": "markdown",
   "metadata": {},
   "source": [
    "Now let's combine the two dataframes for each month into 1 dataframe that we will use for analysis later."
   ]
  },
  {
   "cell_type": "code",
   "execution_count": 333,
   "metadata": {},
   "outputs": [
    {
     "name": "stdout",
     "output_type": "stream",
     "text": [
      "Total obs in month 1 = 668\n",
      "Total obs in month 2 = 704\n",
      "Total obs in both month 1 and 2 = 1372\n"
     ]
    }
   ],
   "source": [
    "print(\"Total obs in month 1 = {}\".format(gme_data_month_1.shape[0]))\n",
    "print(\"Total obs in month 2 = {}\".format(gme_data_month_2.shape[0]))\n",
    "print(\"Total obs in both month 1 and 2 = {}\".format(gme_data_month_1.shape[0] + gme_data_month_2.shape[0]))"
   ]
  },
  {
   "cell_type": "code",
   "execution_count": 328,
   "metadata": {},
   "outputs": [
    {
     "name": "stdout",
     "output_type": "stream",
     "text": [
      "time                 open      high      low       close   volume \n",
      "2021-03-19 20:00:00  199.3100  199.4000  198.5601  199.00  14316      1\n",
      "2021-02-08 12:00:00  60.0786   60.3099   58.0200   59.65   1592647    1\n",
      "2021-02-08 08:00:00  70.0000   70.6000   68.6200   69.48   150283     1\n",
      "2021-02-08 08:30:00  69.3900   73.0000   67.0000   68.05   344703     1\n",
      "2021-02-08 09:00:00  68.0700   69.5500   67.2000   69.55   165473     1\n",
      "                                                                     ..\n",
      "2021-03-01 16:30:00  119.6500  123.3100  116.2600  121.13  634178     1\n",
      "2021-03-01 17:00:00  121.4300  121.4300  115.3900  115.54  306162     1\n",
      "2021-03-01 17:30:00  115.7900  120.4000  115.0000  117.00  149027     1\n",
      "2021-03-01 18:00:00  117.2000  118.6500  116.0000  117.49  98061      1\n",
      "2021-01-19 04:30:00  39.0000   42.6100   38.3100   40.01   66152      1\n",
      "Length: 1372, dtype: int64\n"
     ]
    },
    {
     "data": {
      "text/html": [
       "<div>\n",
       "<style scoped>\n",
       "    .dataframe tbody tr th:only-of-type {\n",
       "        vertical-align: middle;\n",
       "    }\n",
       "\n",
       "    .dataframe tbody tr th {\n",
       "        vertical-align: top;\n",
       "    }\n",
       "\n",
       "    .dataframe thead th {\n",
       "        text-align: right;\n",
       "    }\n",
       "</style>\n",
       "<table border=\"1\" class=\"dataframe\">\n",
       "  <thead>\n",
       "    <tr style=\"text-align: right;\">\n",
       "      <th></th>\n",
       "      <th>time</th>\n",
       "      <th>open</th>\n",
       "      <th>high</th>\n",
       "      <th>low</th>\n",
       "      <th>close</th>\n",
       "      <th>volume</th>\n",
       "    </tr>\n",
       "  </thead>\n",
       "  <tbody>\n",
       "    <tr>\n",
       "      <th>0</th>\n",
       "      <td>2021-03-19 20:00:00</td>\n",
       "      <td>199.3100</td>\n",
       "      <td>199.40</td>\n",
       "      <td>198.5601</td>\n",
       "      <td>199.00</td>\n",
       "      <td>14316</td>\n",
       "    </tr>\n",
       "    <tr>\n",
       "      <th>1</th>\n",
       "      <td>2021-03-19 19:30:00</td>\n",
       "      <td>199.9800</td>\n",
       "      <td>199.99</td>\n",
       "      <td>199.2000</td>\n",
       "      <td>199.30</td>\n",
       "      <td>6403</td>\n",
       "    </tr>\n",
       "    <tr>\n",
       "      <th>2</th>\n",
       "      <td>2021-03-19 19:00:00</td>\n",
       "      <td>199.1000</td>\n",
       "      <td>200.00</td>\n",
       "      <td>199.0000</td>\n",
       "      <td>200.00</td>\n",
       "      <td>15086</td>\n",
       "    </tr>\n",
       "    <tr>\n",
       "      <th>3</th>\n",
       "      <td>2021-03-19 18:30:00</td>\n",
       "      <td>200.2400</td>\n",
       "      <td>200.29</td>\n",
       "      <td>199.0100</td>\n",
       "      <td>199.40</td>\n",
       "      <td>20833</td>\n",
       "    </tr>\n",
       "    <tr>\n",
       "      <th>4</th>\n",
       "      <td>2021-03-19 18:00:00</td>\n",
       "      <td>199.5972</td>\n",
       "      <td>200.40</td>\n",
       "      <td>199.5500</td>\n",
       "      <td>200.24</td>\n",
       "      <td>14931</td>\n",
       "    </tr>\n",
       "  </tbody>\n",
       "</table>\n",
       "</div>"
      ],
      "text/plain": [
       "                  time      open    high       low   close  volume\n",
       "0  2021-03-19 20:00:00  199.3100  199.40  198.5601  199.00   14316\n",
       "1  2021-03-19 19:30:00  199.9800  199.99  199.2000  199.30    6403\n",
       "2  2021-03-19 19:00:00  199.1000  200.00  199.0000  200.00   15086\n",
       "3  2021-03-19 18:30:00  200.2400  200.29  199.0100  199.40   20833\n",
       "4  2021-03-19 18:00:00  199.5972  200.40  199.5500  200.24   14931"
      ]
     },
     "execution_count": 328,
     "metadata": {},
     "output_type": "execute_result"
    }
   ],
   "source": [
    "gme_data = gme_data_month_2.append(gme_data_month_1, ignore_index=True)\n",
    "print(gme_data.value_counts())\n",
    "gme_data.head()\n"
   ]
  },
  {
   "cell_type": "markdown",
   "metadata": {},
   "source": [
    "We have successfully combined the two months together as our new dataframe has the correct total of 1372 observations."
   ]
  },
  {
   "cell_type": "markdown",
   "metadata": {},
   "source": [
    "Let's now examine the 'time' column."
   ]
  },
  {
   "cell_type": "code",
   "execution_count": 335,
   "metadata": {},
   "outputs": [
    {
     "name": "stdout",
     "output_type": "stream",
     "text": [
      "<class 'str'>\n"
     ]
    }
   ],
   "source": [
    "time = gme_data['time'][0]\n",
    "print(type(time))"
   ]
  },
  {
   "cell_type": "markdown",
   "metadata": {},
   "source": [
    "Each times is a string object, it would be more useful to convert each time to a datetime object as it would make for easier comparison."
   ]
  },
  {
   "cell_type": "code",
   "execution_count": 338,
   "metadata": {},
   "outputs": [],
   "source": [
    "gme_data['time'] = pd.to_datetime(gme_data['time'], format = '%Y-%m-%d %H:%M:%S')"
   ]
  },
  {
   "cell_type": "code",
   "execution_count": 340,
   "metadata": {},
   "outputs": [
    {
     "name": "stdout",
     "output_type": "stream",
     "text": [
      "<class 'pandas._libs.tslibs.timestamps.Timestamp'>\n"
     ]
    }
   ],
   "source": [
    "time = gme_data['time'][0]\n",
    "print(type(time))"
   ]
  },
  {
   "cell_type": "markdown",
   "metadata": {},
   "source": [
    "Let's do a simple comparison to test out the power of datetime"
   ]
  },
  {
   "cell_type": "code",
   "execution_count": 341,
   "metadata": {},
   "outputs": [
    {
     "data": {
      "text/plain": [
       "True"
      ]
     },
     "execution_count": 341,
     "metadata": {},
     "output_type": "execute_result"
    }
   ],
   "source": [
    "time_2 = gme_data['time'][1]\n",
    "time > time_2"
   ]
  },
  {
   "cell_type": "markdown",
   "metadata": {},
   "source": [
    "The Above result makes sense since the dataset is already sorted by decreasing times interval for stock prices."
   ]
  },
  {
   "cell_type": "markdown",
   "metadata": {},
   "source": [
    "Our two dataframes for GME data are properly indexed and ready for use!"
   ]
  },
  {
   "cell_type": "markdown",
   "metadata": {},
   "source": [
    "---\n",
    "## Data Description"
   ]
  },
  {
   "cell_type": "markdown",
   "metadata": {},
   "source": [
    "**1 For what purpose was the dataset created? Was there a specific task in mind? Was there a specific gap that needed to be filled?**\n",
    "   - Reddit data - was created to capture the sentiments of r/wallstreetbets in their posts during the meteoric rise of GME stock. WallStreetBets (r/wallstreetbets, also known as WSB), is a subreddit where participants discuss stock and option trading. It has become notable for its profane nature and allegations of users manipulating securities. Recently the community became mainstream again with its interest on GameStop shares.\n",
    "   - GME stock data - was created out of a need to source intraday stock data.\n",
    "    \n",
    "**2. Who created the dataset and on behalf of which entity?**\n",
    "   - Reddit - Data Scientist and Kaggle contributor, [Gabriel Preda](https://www.kaggle.com/gpreda), to satisfy a research need \n",
    "   - GME - [Alpha Vantage](https://www.alphavantage.co/#about)\n",
    "\n",
    "**3. What do the instances that comprise the dataset represent?**\n",
    "   - Reddit - the data contains the 'title', 'score', 'url', 'number of comments', 'time of creation', 'post body', 'timestamp', and associated 'post id'. All of these instances serve to identify exactly 1 r/wallstreetbets post by a user at a particular time.\n",
    "   - GME - the data records'open price' 'high price' 'low price' 'close price' 'volume traded' over a 30min 'time' interval. \n",
    "    \n",
    "**4. How many instances are there in total?**\n",
    "   - Reddit - There are 42552 total posts captured\n",
    "   - GME - There are 1372 total 30min intervals of stock prices recorded.\n",
    "    \n",
    "\n",
    "**5. How was the data associated with each instance acquired? Was the data directly observable, reported by subjects, or indirectly inferred/derived from other data? If data was reported by subjects or indirectly inferred/derived from other data, was the data validated/verified?**\n",
    "   - Reddit - the data was downloaded from https://www.reddit.com/r/wallstreetbets/ using praw (The Python Reddit API Wrapper) by the dataset's creator.\n",
    "   - GME - Alpha Vantage partnered with major exchanges and institutions around the world to become a leading provider of stock APIs as well as forex (FX) and cryptocurrency data feeds.\n",
    " \n",
    "**6. Does the dataset contain all possible instances or is it a sample of instances from a larger set? If thedataset is a sample, then what is the larger set? Is the sample representative of the larger set?**\n",
    "   - Reddit - the data det is any actively growing sample of all r/wallstreetbets posts from Jan. 28, 2021 to present. Around Jan. 28, r/wallstreetbets was at its peak in media attention and conicided with the peak of GME stock. The sample may not be representative of the larger set since post topics on Reddit are not static (i.e. what users post today may not mirror the topics that they will post about tommorrow).\n",
    "   - GME - the data is part of the last two months of GME's stock activity. The sample may not be representative of the larger set since GME was a very volitale stock. For example GME was trading below 20 dollars a year ago.\n",
    "    \n",
    "**7. Over what timeframe was the data collected? Does this timeframe match the creation timeframe of the data associated with the instances?**\n",
    "   - Reddit - From January 28, 2021 to present (March 19, 2021)\n",
    "   - GME - From Jan 19, 2021 market open to present (March 19, 2021) market close.\n",
    "   \n",
    "**8. What data does each instance consist of? “Raw” data or features? In either case, please provide a description.**\n",
    "   - Reddit - Raw user post data\n",
    "   - GME - Raw stock price data\n",
    "\n",
    "**9. Is any information missing from individual instances? If so, please provide a description, explaining why this information is missing.**\n",
    "   - Reddit - some values in the 'body' column were NaN. This was done by the creator of the data set to indicate that the post had no post body.\n",
    "\n",
    "**10. Does the dataset contain data that, if viewed directly, might be offensive, insulting, threatening, or might otherwise cause anxiety?**\n",
    "   - Reddit - the data contains a copious amount of harsh language/emojis,which is used in a joking fashion, inside post titles and post bodies. The posts were not filtered in order to preserve the nature of r/wallstreetbets.\n",
    "    \n",
    "**11. Does the dataset relate to people? If not, you may skip the remaining questions in this section.**\n",
    "   - Reddit - the data captures the direct posts of Reddit (a public social media platform) users.\n",
    "\n",
    "**12. Is it possible to identify individuals, either directly or indirectly from the dataset?**\n",
    "   - Reddit - it is not possible to identify users by their posts unless they choose to identify themselves in their post (self-doxxing). The usernames of each user are not provided in the dataset. However, the url of each post is identifed and can be used to find to the respective post on Reddit.\n",
    "\n",
    "\n",
    "**14. Were the individuals in question notified about the data collection? Did the individuals in question consent to the collection and use of their data?**\n",
    "   - Reddit - No. Reddit is a public platform where all posts are publicly visible. When r/wallstreetbets recieved increased media attention and its posts were documented by the media, users of the subreddit were either filled with pride/bravado or anger due to perceived misrepresentation of their posts. At points even CNBC (financial news) read r/wallstreetbets posts during TV broadcasts.\n",
    "\n",
    "**15. Was any preprocessing/cleaning/labeling of the data done?.**\n",
    "   - Reddit - The 'created', 'url', and 'id' columns would be useless in our planned analysis, so we removed them. Reddit gives users the option to provide a body to whatever topic that they post.The 'body' column is not much of particular direct interest and would. However we felt that it was necessary to capture the length of each post body if it was provided using numerical values. For example, a that is 1000 characters long would have a 'body' value of 1000 while a post with no body (NaN) would have a 'body' value of 0. The timestamp column was converted into a datetime object from a string inorder to enable easier comparisons.\n",
    "   - GME - The indexing of the the data that was produced by the api was modified to be more in uniform with CS conventions. The API that was used was only able to generate a dataframe in 1 month time intervals. Since we wanted to examine 2 months, we generated two dataframes and merged the two into one dataframe while maintaing proper sorting by time. The time column was converted into a datetime object from a string inorder to enable easier comparisons.\n",
    "    \n",
    "**16. Is the software used to preprocess/clean/label the instances available? If so, please provide a link or other access point.**\n",
    "   - Reddit - the dataset creator utilized [praw](https://praw.readthedocs.io/en/latest/) to scrape r/wallstreetbets posts\n",
    "   - GME - [Alpha Vantage API](https://www.alphavantage.co/documentation/) and the [Python API Wrapper](https://github.com/RomelTorres/alpha_vantage)\n",
    "\n",
    "**17. Where can your raw source data be found, if applicable? Provide a link to the raw data.**\n",
    "   - Both datasets can be found here (Make sure to use Cornell Account) -> https://drive.google.com/drive/folders/1afEt08iEISR9dxVcrv-lBQych2ZslX0d?usp=sharing\n",
    "\n"
   ]
  },
  {
   "cell_type": "markdown",
   "metadata": {},
   "source": [
    "---\n",
    "## Data Limitations"
   ]
  },
  {
   "cell_type": "markdown",
   "metadata": {},
   "source": [
    "**Reddit Dataset** - r/wallstreetbets post dataset is primarily limited by the time span in which the data was captured. The posts were recorded starting from Jan 28, 2021. This is one day after the peak stock price of GME on Jan. 27, 2021. It would have been nice to have data capturing posts before Jan 28, 2021 as we could better document user sentiment before GME's rise and its peak.\n",
    "\n",
    "**GME Stock Price Dataset** - the stock price data is limited by the time intervals between each row instance. We decided to use 30min intervals. Using a smaller interval time such as 15min would increase granularity for analysis at the cost of more data observations. A smaller interval would combine nicely with the reddit dataset since that dataset tracks the exact time that each post was posted "
   ]
  },
  {
   "cell_type": "markdown",
   "metadata": {},
   "source": [
    "---\n",
    "## Exploratory Data Analysis"
   ]
  },
  {
   "cell_type": "markdown",
   "metadata": {},
   "source": [
    "Let's begin by generating basic summary statisics for each dataset."
   ]
  },
  {
   "cell_type": "markdown",
   "metadata": {},
   "source": [
    "### Reddit Dataset"
   ]
  },
  {
   "cell_type": "code",
   "execution_count": 279,
   "metadata": {},
   "outputs": [
    {
     "data": {
      "text/plain": [
       "Index(['title', 'score', 'comms_num', 'body', 'timestamp'], dtype='object')"
      ]
     },
     "execution_count": 279,
     "metadata": {},
     "output_type": "execute_result"
    }
   ],
   "source": [
    "reddit_data.columns"
   ]
  },
  {
   "cell_type": "code",
   "execution_count": 286,
   "metadata": {},
   "outputs": [
    {
     "data": {
      "image/png": "[encoded data removed]",
      "text/plain": [
       "<Figure size 432x288 with 1 Axes>"
      ]
     },
     "metadata": {
      "needs_background": "light"
     },
     "output_type": "display_data"
    },
    {
     "data": {
      "image/png": "[encoded data removed]",
      "text/plain": [
       "<Figure size 432x288 with 1 Axes>"
      ]
     },
     "metadata": {
      "needs_background": "light"
     },
     "output_type": "display_data"
    },
    {
     "data": {
      "image/png": "[encoded data removed]",
      "text/plain": [
       "<Figure size 432x288 with 1 Axes>"
      ]
     },
     "metadata": {
      "needs_background": "light"
     },
     "output_type": "display_data"
    }
   ],
   "source": [
    "#post score\n",
    "plt.hist(reddit_data[\"score\"].to_list())\n",
    "plt.xlabel(\"Post Score\")\n",
    "plt.ylabel(\"Count\")\n",
    "plt.title(\"Post Score Histogram\")\n",
    "plt.show()\n",
    "\n",
    "#post comment number\n",
    "plt.hist(reddit_data[\"comms_num\"].to_list())\n",
    "plt.xlabel(\"Post Comment Number\")\n",
    "plt.ylabel(\"Count\")\n",
    "plt.title(\"Post Comment Number Histogram\")\n",
    "plt.show()\n",
    "\n",
    "#post body length\n",
    "plt.hist(reddit_data[\"body\"].to_list())\n",
    "plt.xlabel(\"Body Character Count\")\n",
    "plt.ylabel(\"Count\")\n",
    "plt.title(\"Post Body Character Count Histogram\")\n",
    "plt.show()\n",
    "\n",
    "#post timestamp\n",
    "#plt.hist(reddit_data[\"timestamp\"].to_list())\n",
    "#plt.xlabel(\"Post Timestamp Count\")\n",
    "#plt.ylabel(\"Count\")\n",
    "#plt.title(\"Post Timestamp Count Histogram\")\n",
    "#plt.show()"
   ]
  },
  {
   "cell_type": "markdown",
   "metadata": {},
   "source": [
    "### GME Stock Price Dataset"
   ]
  },
  {
   "cell_type": "code",
   "execution_count": 287,
   "metadata": {},
   "outputs": [
    {
     "data": {
      "text/html": [
       "<div>\n",
       "<style scoped>\n",
       "    .dataframe tbody tr th:only-of-type {\n",
       "        vertical-align: middle;\n",
       "    }\n",
       "\n",
       "    .dataframe tbody tr th {\n",
       "        vertical-align: top;\n",
       "    }\n",
       "\n",
       "    .dataframe thead th {\n",
       "        text-align: right;\n",
       "    }\n",
       "</style>\n",
       "<table border=\"1\" class=\"dataframe\">\n",
       "  <thead>\n",
       "    <tr style=\"text-align: right;\">\n",
       "      <th></th>\n",
       "      <th>title</th>\n",
       "      <th>score</th>\n",
       "      <th>comms_num</th>\n",
       "      <th>body</th>\n",
       "      <th>timestamp</th>\n",
       "    </tr>\n",
       "  </thead>\n",
       "  <tbody>\n",
       "    <tr>\n",
       "      <th>0</th>\n",
       "      <td>It's not about the money, it's about sending a...</td>\n",
       "      <td>55</td>\n",
       "      <td>6</td>\n",
       "      <td>0.0</td>\n",
       "      <td>2021-01-28 21:37:41</td>\n",
       "    </tr>\n",
       "    <tr>\n",
       "      <th>1</th>\n",
       "      <td>Math Professor Scott Steiner says the numbers ...</td>\n",
       "      <td>110</td>\n",
       "      <td>23</td>\n",
       "      <td>0.0</td>\n",
       "      <td>2021-01-28 21:32:10</td>\n",
       "    </tr>\n",
       "    <tr>\n",
       "      <th>2</th>\n",
       "      <td>Exit the system</td>\n",
       "      <td>0</td>\n",
       "      <td>47</td>\n",
       "      <td>1319.0</td>\n",
       "      <td>2021-01-28 21:30:35</td>\n",
       "    </tr>\n",
       "    <tr>\n",
       "      <th>3</th>\n",
       "      <td>NEW SEC FILING FOR GME! CAN SOMEONE LESS RETAR...</td>\n",
       "      <td>29</td>\n",
       "      <td>74</td>\n",
       "      <td>0.0</td>\n",
       "      <td>2021-01-28 21:28:57</td>\n",
       "    </tr>\n",
       "    <tr>\n",
       "      <th>4</th>\n",
       "      <td>Not to distract from GME, just thought our AMC...</td>\n",
       "      <td>71</td>\n",
       "      <td>156</td>\n",
       "      <td>0.0</td>\n",
       "      <td>2021-01-28 21:26:56</td>\n",
       "    </tr>\n",
       "  </tbody>\n",
       "</table>\n",
       "</div>"
      ],
      "text/plain": [
       "                                               title  score  comms_num  \\\n",
       "0  It's not about the money, it's about sending a...     55          6   \n",
       "1  Math Professor Scott Steiner says the numbers ...    110         23   \n",
       "2                                    Exit the system      0         47   \n",
       "3  NEW SEC FILING FOR GME! CAN SOMEONE LESS RETAR...     29         74   \n",
       "4  Not to distract from GME, just thought our AMC...     71        156   \n",
       "\n",
       "     body            timestamp  \n",
       "0     0.0  2021-01-28 21:37:41  \n",
       "1     0.0  2021-01-28 21:32:10  \n",
       "2  1319.0  2021-01-28 21:30:35  \n",
       "3     0.0  2021-01-28 21:28:57  \n",
       "4     0.0  2021-01-28 21:26:56  "
      ]
     },
     "execution_count": 287,
     "metadata": {},
     "output_type": "execute_result"
    }
   ],
   "source": [
    "reddit_data.head()"
   ]
  },
  {
   "cell_type": "markdown",
   "metadata": {},
   "source": [
    "---\n",
    "## Questions for Reviewers"
   ]
  },
  {
   "cell_type": "markdown",
   "metadata": {},
   "source": [
    "1. Our r/wallstreetbets post data set features over 42000 posts not all talking about GME. What would be a good way to trim this down? Would a simple binary search on post titles suffice (i.e. filter posts by title if they contain GME, GameStop, or rocket emoji!?). Are there any basic language analysis technique that might be useful to build a more relevant to GME sub-sample of the data.\n",
    "\n",
    "2. Do you feel that we have enough data or \"columns\" to perform our intended analysis?"
   ]
  }
 ],
 "metadata": {
  "kernelspec": {
   "display_name": "Python 3",
   "language": "python",
   "name": "python3"
  },
  "language_info": {
   "codemirror_mode": {
    "name": "ipython",
    "version": 3
   },
   "file_extension": ".py",
   "mimetype": "text/x-python",
   "name": "python",
   "nbconvert_exporter": "python",
   "pygments_lexer": "ipython3",
   "version": "3.8.5"
  }
 },
 "nbformat": 4,
 "nbformat_minor": 4
}
