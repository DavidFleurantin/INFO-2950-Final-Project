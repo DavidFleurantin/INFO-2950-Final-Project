{
 "cells": [
  {
   "cell_type": "markdown",
   "metadata": {},
   "source": [
    "# INFO 2950 - Project Phase III\n",
    "---"
   ]
  },
  {
   "cell_type": "markdown",
   "metadata": {},
   "source": [
    "By: David Fleurantin (djf252) and Meredith Hu (mmh264)\n",
    "</br>\n",
    "GitHub: https://github.com/DavidFleurantin/INFO-2950-Final-Project\n",
    "</br>\n",
    "Google Drive Link: https://drive.google.com/drive/folders/1iBHVGOBGvDMe7iT7gU4-bCawfUNaYZwe?usp=sharing"
   ]
  },
  {
   "cell_type": "code",
   "execution_count": 5,
   "metadata": {},
   "outputs": [
    {
     "data": {
      "text/html": [
       "<img src=\"https://cdn.shopify.com/s/files/1/0072/7315/2579/articles/wallstreet_blog_grande.jpg?v=1598894414\"/>"
      ],
      "text/plain": [
       "<IPython.core.display.Image object>"
      ]
     },
     "execution_count": 5,
     "metadata": {},
     "output_type": "execute_result"
    }
   ],
   "source": [
    "# load libraries\n",
    "import pandas as pd\n",
    "import numpy as np\n",
    "import matplotlib.pyplot as plt\n",
    "from scipy import stats\n",
    "from IPython.display import Image\n",
    "from IPython.core.display import HTML \n",
    "Image(url= \"https://cdn.shopify.com/s/files/1/0072/7315/2579/articles/wallstreet_blog_grande.jpg?v=1598894414\")"
   ]
  },
  {
   "cell_type": "markdown",
   "metadata": {},
   "source": [
    "## Data Import\n",
    "---"
   ]
  },
  {
   "cell_type": "markdown",
   "metadata": {},
   "source": [
    "Data Cleaning and Curation steps have been excluded. Please refer to Phase II for for more details. \n",
    "</br>\n",
    "Datasets can be found here: https://drive.google.com/drive/folders/1iBHVGOBGvDMe7iT7gU4-bCawfUNaYZwe?usp=sharing"
   ]
  },
  {
   "cell_type": "code",
   "execution_count": 24,
   "metadata": {},
   "outputs": [
    {
     "data": {
      "text/html": [
       "<div>\n",
       "<style scoped>\n",
       "    .dataframe tbody tr th:only-of-type {\n",
       "        vertical-align: middle;\n",
       "    }\n",
       "\n",
       "    .dataframe tbody tr th {\n",
       "        vertical-align: top;\n",
       "    }\n",
       "\n",
       "    .dataframe thead th {\n",
       "        text-align: right;\n",
       "    }\n",
       "</style>\n",
       "<table border=\"1\" class=\"dataframe\">\n",
       "  <thead>\n",
       "    <tr style=\"text-align: right;\">\n",
       "      <th></th>\n",
       "      <th>title</th>\n",
       "      <th>score</th>\n",
       "      <th>comms_num</th>\n",
       "      <th>body</th>\n",
       "      <th>timestamp</th>\n",
       "    </tr>\n",
       "  </thead>\n",
       "  <tbody>\n",
       "    <tr>\n",
       "      <th>0</th>\n",
       "      <td>It's not about the money, it's about sending a...</td>\n",
       "      <td>55</td>\n",
       "      <td>6</td>\n",
       "      <td>0.0</td>\n",
       "      <td>2021-01-28 21:37:41</td>\n",
       "    </tr>\n",
       "    <tr>\n",
       "      <th>1</th>\n",
       "      <td>Math Professor Scott Steiner says the numbers ...</td>\n",
       "      <td>110</td>\n",
       "      <td>23</td>\n",
       "      <td>0.0</td>\n",
       "      <td>2021-01-28 21:32:10</td>\n",
       "    </tr>\n",
       "    <tr>\n",
       "      <th>2</th>\n",
       "      <td>Exit the system</td>\n",
       "      <td>0</td>\n",
       "      <td>47</td>\n",
       "      <td>1319.0</td>\n",
       "      <td>2021-01-28 21:30:35</td>\n",
       "    </tr>\n",
       "    <tr>\n",
       "      <th>3</th>\n",
       "      <td>NEW SEC FILING FOR GME! CAN SOMEONE LESS RETAR...</td>\n",
       "      <td>29</td>\n",
       "      <td>74</td>\n",
       "      <td>0.0</td>\n",
       "      <td>2021-01-28 21:28:57</td>\n",
       "    </tr>\n",
       "    <tr>\n",
       "      <th>4</th>\n",
       "      <td>Not to distract from GME, just thought our AMC...</td>\n",
       "      <td>71</td>\n",
       "      <td>156</td>\n",
       "      <td>0.0</td>\n",
       "      <td>2021-01-28 21:26:56</td>\n",
       "    </tr>\n",
       "  </tbody>\n",
       "</table>\n",
       "</div>"
      ],
      "text/plain": [
       "                                               title  score  comms_num  \\\n",
       "0  It's not about the money, it's about sending a...     55          6   \n",
       "1  Math Professor Scott Steiner says the numbers ...    110         23   \n",
       "2                                    Exit the system      0         47   \n",
       "3  NEW SEC FILING FOR GME! CAN SOMEONE LESS RETAR...     29         74   \n",
       "4  Not to distract from GME, just thought our AMC...     71        156   \n",
       "\n",
       "     body            timestamp  \n",
       "0     0.0  2021-01-28 21:37:41  \n",
       "1     0.0  2021-01-28 21:32:10  \n",
       "2  1319.0  2021-01-28 21:30:35  \n",
       "3     0.0  2021-01-28 21:28:57  \n",
       "4     0.0  2021-01-28 21:26:56  "
      ]
     },
     "execution_count": 24,
     "metadata": {},
     "output_type": "execute_result"
    }
   ],
   "source": [
    "## load Reddit (WSB) data\n",
    "reddit_data = pd.read_csv(\"reddit_wsb_final.csv\")\n",
    "reddit_data.head()"
   ]
  },
  {
   "cell_type": "code",
   "execution_count": 87,
   "metadata": {},
   "outputs": [
    {
     "data": {
      "text/html": [
       "<div>\n",
       "<style scoped>\n",
       "    .dataframe tbody tr th:only-of-type {\n",
       "        vertical-align: middle;\n",
       "    }\n",
       "\n",
       "    .dataframe tbody tr th {\n",
       "        vertical-align: top;\n",
       "    }\n",
       "\n",
       "    .dataframe thead th {\n",
       "        text-align: right;\n",
       "    }\n",
       "</style>\n",
       "<table border=\"1\" class=\"dataframe\">\n",
       "  <thead>\n",
       "    <tr style=\"text-align: right;\">\n",
       "      <th></th>\n",
       "      <th>time</th>\n",
       "      <th>open</th>\n",
       "      <th>high</th>\n",
       "      <th>low</th>\n",
       "      <th>close</th>\n",
       "      <th>volume</th>\n",
       "    </tr>\n",
       "  </thead>\n",
       "  <tbody>\n",
       "    <tr>\n",
       "      <th>0</th>\n",
       "      <td>2021-03-19 20:00:00</td>\n",
       "      <td>199.3100</td>\n",
       "      <td>199.40</td>\n",
       "      <td>198.5601</td>\n",
       "      <td>199.00</td>\n",
       "      <td>14316</td>\n",
       "    </tr>\n",
       "    <tr>\n",
       "      <th>1</th>\n",
       "      <td>2021-03-19 19:30:00</td>\n",
       "      <td>199.9800</td>\n",
       "      <td>199.99</td>\n",
       "      <td>199.2000</td>\n",
       "      <td>199.30</td>\n",
       "      <td>6403</td>\n",
       "    </tr>\n",
       "    <tr>\n",
       "      <th>2</th>\n",
       "      <td>2021-03-19 19:00:00</td>\n",
       "      <td>199.1000</td>\n",
       "      <td>200.00</td>\n",
       "      <td>199.0000</td>\n",
       "      <td>200.00</td>\n",
       "      <td>15086</td>\n",
       "    </tr>\n",
       "    <tr>\n",
       "      <th>3</th>\n",
       "      <td>2021-03-19 18:30:00</td>\n",
       "      <td>200.2400</td>\n",
       "      <td>200.29</td>\n",
       "      <td>199.0100</td>\n",
       "      <td>199.40</td>\n",
       "      <td>20833</td>\n",
       "    </tr>\n",
       "    <tr>\n",
       "      <th>4</th>\n",
       "      <td>2021-03-19 18:00:00</td>\n",
       "      <td>199.5972</td>\n",
       "      <td>200.40</td>\n",
       "      <td>199.5500</td>\n",
       "      <td>200.24</td>\n",
       "      <td>14931</td>\n",
       "    </tr>\n",
       "  </tbody>\n",
       "</table>\n",
       "</div>"
      ],
      "text/plain": [
       "                  time      open    high       low   close  volume\n",
       "0  2021-03-19 20:00:00  199.3100  199.40  198.5601  199.00   14316\n",
       "1  2021-03-19 19:30:00  199.9800  199.99  199.2000  199.30    6403\n",
       "2  2021-03-19 19:00:00  199.1000  200.00  199.0000  200.00   15086\n",
       "3  2021-03-19 18:30:00  200.2400  200.29  199.0100  199.40   20833\n",
       "4  2021-03-19 18:00:00  199.5972  200.40  199.5500  200.24   14931"
      ]
     },
     "execution_count": 87,
     "metadata": {},
     "output_type": "execute_result"
    }
   ],
   "source": [
    "## load Gamestop (GME Stock) data\n",
    "gme_data = pd.read_csv(\"gme_data_final.csv\")\n",
    "gme_data.head()"
   ]
  },
  {
   "cell_type": "code",
   "execution_count": 89,
   "metadata": {},
   "outputs": [
    {
     "data": {
      "text/html": [
       "<div>\n",
       "<style scoped>\n",
       "    .dataframe tbody tr th:only-of-type {\n",
       "        vertical-align: middle;\n",
       "    }\n",
       "\n",
       "    .dataframe tbody tr th {\n",
       "        vertical-align: top;\n",
       "    }\n",
       "\n",
       "    .dataframe thead th {\n",
       "        text-align: right;\n",
       "    }\n",
       "</style>\n",
       "<table border=\"1\" class=\"dataframe\">\n",
       "  <thead>\n",
       "    <tr style=\"text-align: right;\">\n",
       "      <th></th>\n",
       "      <th>score</th>\n",
       "      <th>comms_num</th>\n",
       "      <th>body</th>\n",
       "    </tr>\n",
       "  </thead>\n",
       "  <tbody>\n",
       "    <tr>\n",
       "      <th>count</th>\n",
       "      <td>42553.00000</td>\n",
       "      <td>42553.000000</td>\n",
       "      <td>42553.000000</td>\n",
       "    </tr>\n",
       "    <tr>\n",
       "      <th>mean</th>\n",
       "      <td>1377.25453</td>\n",
       "      <td>203.011774</td>\n",
       "      <td>494.531008</td>\n",
       "    </tr>\n",
       "    <tr>\n",
       "      <th>std</th>\n",
       "      <td>8381.80570</td>\n",
       "      <td>2441.833305</td>\n",
       "      <td>1494.372728</td>\n",
       "    </tr>\n",
       "    <tr>\n",
       "      <th>min</th>\n",
       "      <td>0.00000</td>\n",
       "      <td>0.000000</td>\n",
       "      <td>0.000000</td>\n",
       "    </tr>\n",
       "    <tr>\n",
       "      <th>25%</th>\n",
       "      <td>1.00000</td>\n",
       "      <td>2.000000</td>\n",
       "      <td>0.000000</td>\n",
       "    </tr>\n",
       "    <tr>\n",
       "      <th>50%</th>\n",
       "      <td>25.00000</td>\n",
       "      <td>11.000000</td>\n",
       "      <td>0.000000</td>\n",
       "    </tr>\n",
       "    <tr>\n",
       "      <th>75%</th>\n",
       "      <td>166.00000</td>\n",
       "      <td>44.000000</td>\n",
       "      <td>303.000000</td>\n",
       "    </tr>\n",
       "    <tr>\n",
       "      <th>max</th>\n",
       "      <td>348241.00000</td>\n",
       "      <td>93268.000000</td>\n",
       "      <td>34984.000000</td>\n",
       "    </tr>\n",
       "  </tbody>\n",
       "</table>\n",
       "</div>"
      ],
      "text/plain": [
       "              score     comms_num          body\n",
       "count   42553.00000  42553.000000  42553.000000\n",
       "mean     1377.25453    203.011774    494.531008\n",
       "std      8381.80570   2441.833305   1494.372728\n",
       "min         0.00000      0.000000      0.000000\n",
       "25%         1.00000      2.000000      0.000000\n",
       "50%        25.00000     11.000000      0.000000\n",
       "75%       166.00000     44.000000    303.000000\n",
       "max    348241.00000  93268.000000  34984.000000"
      ]
     },
     "execution_count": 89,
     "metadata": {},
     "output_type": "execute_result"
    }
   ],
   "source": [
    "reddit_data.describe()"
   ]
  },
  {
   "cell_type": "markdown",
   "metadata": {},
   "source": [
    "Our plan is to conduct a simple boolean search in order to make sure that the posts we analyze are relevant to GME/Gamestop"
   ]
  },
  {
   "cell_type": "code",
   "execution_count": 119,
   "metadata": {},
   "outputs": [],
   "source": [
    "#reddit data - GME Subset\n",
    "\n",
    "reddit_data_test = reddit_data.copy()"
   ]
  },
  {
   "cell_type": "code",
   "execution_count": 117,
   "metadata": {},
   "outputs": [],
   "source": [
    "#https://stackoverflow.com/questions/22909082/pandas-converting-string-object-to-lower-case-and-checking-for-string\n",
    "reddit_data_test = reddit_data_test[reddit_data_test[\"title\"].str.contains(\"(?i)gme|Gamestop|Game Stop\")]"
   ]
  },
  {
   "cell_type": "code",
   "execution_count": 121,
   "metadata": {},
   "outputs": [
    {
     "data": {
      "text/html": [
       "<div>\n",
       "<style scoped>\n",
       "    .dataframe tbody tr th:only-of-type {\n",
       "        vertical-align: middle;\n",
       "    }\n",
       "\n",
       "    .dataframe tbody tr th {\n",
       "        vertical-align: top;\n",
       "    }\n",
       "\n",
       "    .dataframe thead th {\n",
       "        text-align: right;\n",
       "    }\n",
       "</style>\n",
       "<table border=\"1\" class=\"dataframe\">\n",
       "  <thead>\n",
       "    <tr style=\"text-align: right;\">\n",
       "      <th></th>\n",
       "      <th>score</th>\n",
       "      <th>comms_num</th>\n",
       "      <th>body</th>\n",
       "    </tr>\n",
       "  </thead>\n",
       "  <tbody>\n",
       "    <tr>\n",
       "      <th>count</th>\n",
       "      <td>42553.00000</td>\n",
       "      <td>42553.000000</td>\n",
       "      <td>42553.000000</td>\n",
       "    </tr>\n",
       "    <tr>\n",
       "      <th>mean</th>\n",
       "      <td>1377.25453</td>\n",
       "      <td>203.011774</td>\n",
       "      <td>494.531008</td>\n",
       "    </tr>\n",
       "    <tr>\n",
       "      <th>std</th>\n",
       "      <td>8381.80570</td>\n",
       "      <td>2441.833305</td>\n",
       "      <td>1494.372728</td>\n",
       "    </tr>\n",
       "    <tr>\n",
       "      <th>min</th>\n",
       "      <td>0.00000</td>\n",
       "      <td>0.000000</td>\n",
       "      <td>0.000000</td>\n",
       "    </tr>\n",
       "    <tr>\n",
       "      <th>25%</th>\n",
       "      <td>1.00000</td>\n",
       "      <td>2.000000</td>\n",
       "      <td>0.000000</td>\n",
       "    </tr>\n",
       "    <tr>\n",
       "      <th>50%</th>\n",
       "      <td>25.00000</td>\n",
       "      <td>11.000000</td>\n",
       "      <td>0.000000</td>\n",
       "    </tr>\n",
       "    <tr>\n",
       "      <th>75%</th>\n",
       "      <td>166.00000</td>\n",
       "      <td>44.000000</td>\n",
       "      <td>303.000000</td>\n",
       "    </tr>\n",
       "    <tr>\n",
       "      <th>max</th>\n",
       "      <td>348241.00000</td>\n",
       "      <td>93268.000000</td>\n",
       "      <td>34984.000000</td>\n",
       "    </tr>\n",
       "  </tbody>\n",
       "</table>\n",
       "</div>"
      ],
      "text/plain": [
       "              score     comms_num          body\n",
       "count   42553.00000  42553.000000  42553.000000\n",
       "mean     1377.25453    203.011774    494.531008\n",
       "std      8381.80570   2441.833305   1494.372728\n",
       "min         0.00000      0.000000      0.000000\n",
       "25%         1.00000      2.000000      0.000000\n",
       "50%        25.00000     11.000000      0.000000\n",
       "75%       166.00000     44.000000    303.000000\n",
       "max    348241.00000  93268.000000  34984.000000"
      ]
     },
     "execution_count": 121,
     "metadata": {},
     "output_type": "execute_result"
    }
   ],
   "source": [
    "reddit_data_test.describe()"
   ]
  },
  {
   "cell_type": "markdown",
   "metadata": {},
   "source": [
    "Our new subset of the reddit data is 1/5 as small. "
   ]
  },
  {
   "cell_type": "markdown",
   "metadata": {},
   "source": [
    "## Preregistered Analyses\n",
    "---"
   ]
  },
  {
   "cell_type": "markdown",
   "metadata": {},
   "source": [
    "#### 1. Does the frequency of WSB reddit posts during their corresponding GME stock price intervals correlate positevly with GME stock price."
   ]
  },
  {
   "cell_type": "markdown",
   "metadata": {},
   "source": [
    "#### 2. Does the freuqency/amount of posts that mention Gamestop/GME in the title correlate positively with stock price?"
   ]
  },
  {
   "cell_type": "markdown",
   "metadata": {},
   "source": [
    "#### 3. Find the statistics on post upvotes (mean, stdev) and see what is a statistical outlier for upvotes then track what were the most statistically anomalistic upvoted posts were in the timespan of the stock price rising and see if there's a correlation between their times and the rising price times."
   ]
  },
  {
   "cell_type": "markdown",
   "metadata": {},
   "source": [
    "---\n",
    "## Questions for Reviewers"
   ]
  },
  {
   "cell_type": "markdown",
   "metadata": {},
   "source": [
    "1. How do we determine the definition of a outlier post/what metrics should we use?\n",
    "\n",
    "2. Are there more ways to filter the larger reddit dataset to include more relevant posts about Gamestop (GME) outside of just searching the titles for keywords 'Gamestop' or 'GME'?\n",
    "\n",
    "3. The timestamp column in our reddit dataset records the exact time the post was posted. Taking this into consideration, we observe that thenumber of upvotes on each post is not exactly reflective of the associated timestamp, which means it might be inaccurate to use it in our analysis. What would be an accurate way to use the upvote data? We are still very fascinated with possible relationships between amount of upvotes on posts and the influence of those posts in the bigger picture. "
   ]
  }
 ],
 "metadata": {
  "kernelspec": {
   "display_name": "Python 3",
   "language": "python",
   "name": "python3"
  },
  "language_info": {
   "codemirror_mode": {
    "name": "ipython",
    "version": 3
   },
   "file_extension": ".py",
   "mimetype": "text/x-python",
   "name": "python",
   "nbconvert_exporter": "python",
   "pygments_lexer": "ipython3",
   "version": "3.8.5"
  }
 },
 "nbformat": 4,
 "nbformat_minor": 4
}
